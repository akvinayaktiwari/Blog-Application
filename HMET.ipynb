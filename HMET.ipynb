{
  "cells": [
    {
      "cell_type": "markdown",
      "metadata": {
        "id": "view-in-github",
        "colab_type": "text"
      },
      "source": [
        "<a href=\"https://colab.research.google.com/github/akvinayaktiwari/Blog-Application/blob/master/HMET.ipynb\" target=\"_parent\"><img src=\"https://colab.research.google.com/assets/colab-badge.svg\" alt=\"Open In Colab\"/></a>"
      ]
    },
    {
      "cell_type": "code",
      "execution_count": 86,
      "id": "9f2501c0-23db-4074-a610-ed4e4c9ba75c",
      "metadata": {
        "id": "9f2501c0-23db-4074-a610-ed4e4c9ba75c"
      },
      "outputs": [],
      "source": [
        "import pandas as pd\n",
        "import numpy as nm"
      ]
    },
    {
      "cell_type": "code",
      "execution_count": 87,
      "id": "13c698b4-7ab5-4f0e-8d7b-89e0952fb5cd",
      "metadata": {
        "id": "13c698b4-7ab5-4f0e-8d7b-89e0952fb5cd"
      },
      "outputs": [],
      "source": [
        "raw_data=pd.read_csv('export1.csv')"
      ]
    },
    {
      "cell_type": "code",
      "execution_count": 88,
      "id": "911e68ea-7923-469f-8daf-66ace8e3c7f8",
      "metadata": {
        "id": "911e68ea-7923-469f-8daf-66ace8e3c7f8"
      },
      "outputs": [],
      "source": [
        "selected_col=['Source Current','Drain Current','Gate Voltage','Gate Current','Substarte Current']"
      ]
    },
    {
      "cell_type": "code",
      "execution_count": 89,
      "id": "5c1d3f21-e39b-45b7-a2c1-d2bbc2fd23cd",
      "metadata": {
        "id": "5c1d3f21-e39b-45b7-a2c1-d2bbc2fd23cd"
      },
      "outputs": [],
      "source": [
        "data=raw_data[selected_col]"
      ]
    },
    {
      "cell_type": "code",
      "execution_count": 90,
      "id": "060b7f2c-5542-4b23-81c8-66546f7c7534",
      "metadata": {
        "colab": {
          "base_uri": "https://localhost:8080/",
          "height": 206
        },
        "id": "060b7f2c-5542-4b23-81c8-66546f7c7534",
        "outputId": "2c7a14f5-ee11-4d46-b342-0e9b4358f68d"
      },
      "outputs": [
        {
          "output_type": "execute_result",
          "data": {
            "text/plain": [
              "   Source Current  Drain Current  Gate Voltage  Gate Current  \\\n",
              "0   -3.527188e-07   3.527188e-07          0.00  3.828959e-87   \n",
              "1   -4.683317e-07   4.683317e-07          0.04  3.828959e-87   \n",
              "2   -6.172829e-07   6.172829e-07          0.08  3.828959e-87   \n",
              "3   -8.068944e-07   8.068944e-07          0.12  3.828959e-87   \n",
              "4   -1.045097e-06   1.045097e-06          0.16  3.828959e-87   \n",
              "\n",
              "   Substarte Current  \n",
              "0      -6.616635e-15  \n",
              "1      -6.646794e-15  \n",
              "2      -6.676963e-15  \n",
              "3      -6.707028e-15  \n",
              "4      -6.736864e-15  "
            ],
            "text/html": [
              "\n",
              "  <div id=\"df-1bffc60e-58e0-45c0-800c-bf7a1092a1ad\" class=\"colab-df-container\">\n",
              "    <div>\n",
              "<style scoped>\n",
              "    .dataframe tbody tr th:only-of-type {\n",
              "        vertical-align: middle;\n",
              "    }\n",
              "\n",
              "    .dataframe tbody tr th {\n",
              "        vertical-align: top;\n",
              "    }\n",
              "\n",
              "    .dataframe thead th {\n",
              "        text-align: right;\n",
              "    }\n",
              "</style>\n",
              "<table border=\"1\" class=\"dataframe\">\n",
              "  <thead>\n",
              "    <tr style=\"text-align: right;\">\n",
              "      <th></th>\n",
              "      <th>Source Current</th>\n",
              "      <th>Drain Current</th>\n",
              "      <th>Gate Voltage</th>\n",
              "      <th>Gate Current</th>\n",
              "      <th>Substarte Current</th>\n",
              "    </tr>\n",
              "  </thead>\n",
              "  <tbody>\n",
              "    <tr>\n",
              "      <th>0</th>\n",
              "      <td>-3.527188e-07</td>\n",
              "      <td>3.527188e-07</td>\n",
              "      <td>0.00</td>\n",
              "      <td>3.828959e-87</td>\n",
              "      <td>-6.616635e-15</td>\n",
              "    </tr>\n",
              "    <tr>\n",
              "      <th>1</th>\n",
              "      <td>-4.683317e-07</td>\n",
              "      <td>4.683317e-07</td>\n",
              "      <td>0.04</td>\n",
              "      <td>3.828959e-87</td>\n",
              "      <td>-6.646794e-15</td>\n",
              "    </tr>\n",
              "    <tr>\n",
              "      <th>2</th>\n",
              "      <td>-6.172829e-07</td>\n",
              "      <td>6.172829e-07</td>\n",
              "      <td>0.08</td>\n",
              "      <td>3.828959e-87</td>\n",
              "      <td>-6.676963e-15</td>\n",
              "    </tr>\n",
              "    <tr>\n",
              "      <th>3</th>\n",
              "      <td>-8.068944e-07</td>\n",
              "      <td>8.068944e-07</td>\n",
              "      <td>0.12</td>\n",
              "      <td>3.828959e-87</td>\n",
              "      <td>-6.707028e-15</td>\n",
              "    </tr>\n",
              "    <tr>\n",
              "      <th>4</th>\n",
              "      <td>-1.045097e-06</td>\n",
              "      <td>1.045097e-06</td>\n",
              "      <td>0.16</td>\n",
              "      <td>3.828959e-87</td>\n",
              "      <td>-6.736864e-15</td>\n",
              "    </tr>\n",
              "  </tbody>\n",
              "</table>\n",
              "</div>\n",
              "    <div class=\"colab-df-buttons\">\n",
              "\n",
              "  <div class=\"colab-df-container\">\n",
              "    <button class=\"colab-df-convert\" onclick=\"convertToInteractive('df-1bffc60e-58e0-45c0-800c-bf7a1092a1ad')\"\n",
              "            title=\"Convert this dataframe to an interactive table.\"\n",
              "            style=\"display:none;\">\n",
              "\n",
              "  <svg xmlns=\"http://www.w3.org/2000/svg\" height=\"24px\" viewBox=\"0 -960 960 960\">\n",
              "    <path d=\"M120-120v-720h720v720H120Zm60-500h600v-160H180v160Zm220 220h160v-160H400v160Zm0 220h160v-160H400v160ZM180-400h160v-160H180v160Zm440 0h160v-160H620v160ZM180-180h160v-160H180v160Zm440 0h160v-160H620v160Z\"/>\n",
              "  </svg>\n",
              "    </button>\n",
              "\n",
              "  <style>\n",
              "    .colab-df-container {\n",
              "      display:flex;\n",
              "      gap: 12px;\n",
              "    }\n",
              "\n",
              "    .colab-df-convert {\n",
              "      background-color: #E8F0FE;\n",
              "      border: none;\n",
              "      border-radius: 50%;\n",
              "      cursor: pointer;\n",
              "      display: none;\n",
              "      fill: #1967D2;\n",
              "      height: 32px;\n",
              "      padding: 0 0 0 0;\n",
              "      width: 32px;\n",
              "    }\n",
              "\n",
              "    .colab-df-convert:hover {\n",
              "      background-color: #E2EBFA;\n",
              "      box-shadow: 0px 1px 2px rgba(60, 64, 67, 0.3), 0px 1px 3px 1px rgba(60, 64, 67, 0.15);\n",
              "      fill: #174EA6;\n",
              "    }\n",
              "\n",
              "    .colab-df-buttons div {\n",
              "      margin-bottom: 4px;\n",
              "    }\n",
              "\n",
              "    [theme=dark] .colab-df-convert {\n",
              "      background-color: #3B4455;\n",
              "      fill: #D2E3FC;\n",
              "    }\n",
              "\n",
              "    [theme=dark] .colab-df-convert:hover {\n",
              "      background-color: #434B5C;\n",
              "      box-shadow: 0px 1px 3px 1px rgba(0, 0, 0, 0.15);\n",
              "      filter: drop-shadow(0px 1px 2px rgba(0, 0, 0, 0.3));\n",
              "      fill: #FFFFFF;\n",
              "    }\n",
              "  </style>\n",
              "\n",
              "    <script>\n",
              "      const buttonEl =\n",
              "        document.querySelector('#df-1bffc60e-58e0-45c0-800c-bf7a1092a1ad button.colab-df-convert');\n",
              "      buttonEl.style.display =\n",
              "        google.colab.kernel.accessAllowed ? 'block' : 'none';\n",
              "\n",
              "      async function convertToInteractive(key) {\n",
              "        const element = document.querySelector('#df-1bffc60e-58e0-45c0-800c-bf7a1092a1ad');\n",
              "        const dataTable =\n",
              "          await google.colab.kernel.invokeFunction('convertToInteractive',\n",
              "                                                    [key], {});\n",
              "        if (!dataTable) return;\n",
              "\n",
              "        const docLinkHtml = 'Like what you see? Visit the ' +\n",
              "          '<a target=\"_blank\" href=https://colab.research.google.com/notebooks/data_table.ipynb>data table notebook</a>'\n",
              "          + ' to learn more about interactive tables.';\n",
              "        element.innerHTML = '';\n",
              "        dataTable['output_type'] = 'display_data';\n",
              "        await google.colab.output.renderOutput(dataTable, element);\n",
              "        const docLink = document.createElement('div');\n",
              "        docLink.innerHTML = docLinkHtml;\n",
              "        element.appendChild(docLink);\n",
              "      }\n",
              "    </script>\n",
              "  </div>\n",
              "\n",
              "\n",
              "<div id=\"df-1033bd2d-3669-4f47-99e7-2843933129d6\">\n",
              "  <button class=\"colab-df-quickchart\" onclick=\"quickchart('df-1033bd2d-3669-4f47-99e7-2843933129d6')\"\n",
              "            title=\"Suggest charts.\"\n",
              "            style=\"display:none;\">\n",
              "\n",
              "<svg xmlns=\"http://www.w3.org/2000/svg\" height=\"24px\"viewBox=\"0 0 24 24\"\n",
              "     width=\"24px\">\n",
              "    <g>\n",
              "        <path d=\"M19 3H5c-1.1 0-2 .9-2 2v14c0 1.1.9 2 2 2h14c1.1 0 2-.9 2-2V5c0-1.1-.9-2-2-2zM9 17H7v-7h2v7zm4 0h-2V7h2v10zm4 0h-2v-4h2v4z\"/>\n",
              "    </g>\n",
              "</svg>\n",
              "  </button>\n",
              "\n",
              "<style>\n",
              "  .colab-df-quickchart {\n",
              "      --bg-color: #E8F0FE;\n",
              "      --fill-color: #1967D2;\n",
              "      --hover-bg-color: #E2EBFA;\n",
              "      --hover-fill-color: #174EA6;\n",
              "      --disabled-fill-color: #AAA;\n",
              "      --disabled-bg-color: #DDD;\n",
              "  }\n",
              "\n",
              "  [theme=dark] .colab-df-quickchart {\n",
              "      --bg-color: #3B4455;\n",
              "      --fill-color: #D2E3FC;\n",
              "      --hover-bg-color: #434B5C;\n",
              "      --hover-fill-color: #FFFFFF;\n",
              "      --disabled-bg-color: #3B4455;\n",
              "      --disabled-fill-color: #666;\n",
              "  }\n",
              "\n",
              "  .colab-df-quickchart {\n",
              "    background-color: var(--bg-color);\n",
              "    border: none;\n",
              "    border-radius: 50%;\n",
              "    cursor: pointer;\n",
              "    display: none;\n",
              "    fill: var(--fill-color);\n",
              "    height: 32px;\n",
              "    padding: 0;\n",
              "    width: 32px;\n",
              "  }\n",
              "\n",
              "  .colab-df-quickchart:hover {\n",
              "    background-color: var(--hover-bg-color);\n",
              "    box-shadow: 0 1px 2px rgba(60, 64, 67, 0.3), 0 1px 3px 1px rgba(60, 64, 67, 0.15);\n",
              "    fill: var(--button-hover-fill-color);\n",
              "  }\n",
              "\n",
              "  .colab-df-quickchart-complete:disabled,\n",
              "  .colab-df-quickchart-complete:disabled:hover {\n",
              "    background-color: var(--disabled-bg-color);\n",
              "    fill: var(--disabled-fill-color);\n",
              "    box-shadow: none;\n",
              "  }\n",
              "\n",
              "  .colab-df-spinner {\n",
              "    border: 2px solid var(--fill-color);\n",
              "    border-color: transparent;\n",
              "    border-bottom-color: var(--fill-color);\n",
              "    animation:\n",
              "      spin 1s steps(1) infinite;\n",
              "  }\n",
              "\n",
              "  @keyframes spin {\n",
              "    0% {\n",
              "      border-color: transparent;\n",
              "      border-bottom-color: var(--fill-color);\n",
              "      border-left-color: var(--fill-color);\n",
              "    }\n",
              "    20% {\n",
              "      border-color: transparent;\n",
              "      border-left-color: var(--fill-color);\n",
              "      border-top-color: var(--fill-color);\n",
              "    }\n",
              "    30% {\n",
              "      border-color: transparent;\n",
              "      border-left-color: var(--fill-color);\n",
              "      border-top-color: var(--fill-color);\n",
              "      border-right-color: var(--fill-color);\n",
              "    }\n",
              "    40% {\n",
              "      border-color: transparent;\n",
              "      border-right-color: var(--fill-color);\n",
              "      border-top-color: var(--fill-color);\n",
              "    }\n",
              "    60% {\n",
              "      border-color: transparent;\n",
              "      border-right-color: var(--fill-color);\n",
              "    }\n",
              "    80% {\n",
              "      border-color: transparent;\n",
              "      border-right-color: var(--fill-color);\n",
              "      border-bottom-color: var(--fill-color);\n",
              "    }\n",
              "    90% {\n",
              "      border-color: transparent;\n",
              "      border-bottom-color: var(--fill-color);\n",
              "    }\n",
              "  }\n",
              "</style>\n",
              "\n",
              "  <script>\n",
              "    async function quickchart(key) {\n",
              "      const quickchartButtonEl =\n",
              "        document.querySelector('#' + key + ' button');\n",
              "      quickchartButtonEl.disabled = true;  // To prevent multiple clicks.\n",
              "      quickchartButtonEl.classList.add('colab-df-spinner');\n",
              "      try {\n",
              "        const charts = await google.colab.kernel.invokeFunction(\n",
              "            'suggestCharts', [key], {});\n",
              "      } catch (error) {\n",
              "        console.error('Error during call to suggestCharts:', error);\n",
              "      }\n",
              "      quickchartButtonEl.classList.remove('colab-df-spinner');\n",
              "      quickchartButtonEl.classList.add('colab-df-quickchart-complete');\n",
              "    }\n",
              "    (() => {\n",
              "      let quickchartButtonEl =\n",
              "        document.querySelector('#df-1033bd2d-3669-4f47-99e7-2843933129d6 button');\n",
              "      quickchartButtonEl.style.display =\n",
              "        google.colab.kernel.accessAllowed ? 'block' : 'none';\n",
              "    })();\n",
              "  </script>\n",
              "</div>\n",
              "    </div>\n",
              "  </div>\n"
            ]
          },
          "metadata": {},
          "execution_count": 90
        }
      ],
      "source": [
        "data.head()\n"
      ]
    },
    {
      "cell_type": "code",
      "execution_count": 91,
      "id": "7066b9de-0a5d-429b-9297-6593465768e4",
      "metadata": {
        "colab": {
          "base_uri": "https://localhost:8080/"
        },
        "id": "7066b9de-0a5d-429b-9297-6593465768e4",
        "outputId": "c6fdba9a-9254-4f60-f211-1c5c3037a395"
      },
      "outputs": [
        {
          "output_type": "stream",
          "name": "stdout",
          "text": [
            "<class 'pandas.core.frame.DataFrame'>\n",
            "RangeIndex: 31 entries, 0 to 30\n",
            "Data columns (total 5 columns):\n",
            " #   Column             Non-Null Count  Dtype  \n",
            "---  ------             --------------  -----  \n",
            " 0   Source Current     31 non-null     float64\n",
            " 1   Drain Current      31 non-null     float64\n",
            " 2   Gate Voltage       31 non-null     float64\n",
            " 3   Gate Current       31 non-null     float64\n",
            " 4   Substarte Current  31 non-null     float64\n",
            "dtypes: float64(5)\n",
            "memory usage: 1.3 KB\n"
          ]
        }
      ],
      "source": [
        "data.info()\n"
      ]
    },
    {
      "cell_type": "code",
      "execution_count": 92,
      "id": "3cfff10d-ac9e-4765-9311-d8a2135a2262",
      "metadata": {
        "id": "3cfff10d-ac9e-4765-9311-d8a2135a2262"
      },
      "outputs": [],
      "source": [
        "from sklearn.model_selection import train_test_split\n",
        "from sklearn.linear_model import LinearRegression,Lasso,Ridge\n",
        "from sklearn.preprocessing import OneHotEncoder,StandardScaler\n",
        "from sklearn.compose import make_column_transformer\n",
        "from sklearn.pipeline import make_pipeline\n",
        "from sklearn.metrics import r2_score"
      ]
    },
    {
      "cell_type": "code",
      "execution_count": 93,
      "id": "b6445ea4-eaaa-47eb-bef0-30053c55ac35",
      "metadata": {
        "id": "b6445ea4-eaaa-47eb-bef0-30053c55ac35"
      },
      "outputs": [],
      "source": [
        "X=data.drop(columns=['Drain Current'])\n",
        "y=data['Drain Current']"
      ]
    },
    {
      "cell_type": "code",
      "execution_count": 94,
      "id": "82021644-3017-486d-96a3-fff87024f9c1",
      "metadata": {
        "id": "82021644-3017-486d-96a3-fff87024f9c1"
      },
      "outputs": [],
      "source": [
        "X_train,X_test,y_train,y_test=train_test_split(X,y,test_size=0.2,random_state=0)"
      ]
    },
    {
      "cell_type": "code",
      "execution_count": 95,
      "id": "1a769f1c-1739-4fc6-b16b-94c76244c353",
      "metadata": {
        "id": "1a769f1c-1739-4fc6-b16b-94c76244c353"
      },
      "outputs": [],
      "source": [
        "lr = LinearRegression()"
      ]
    },
    {
      "cell_type": "code",
      "execution_count": 96,
      "id": "56dd4675-54e9-4f41-ace3-2eb47a3b8ca3",
      "metadata": {
        "colab": {
          "base_uri": "https://localhost:8080/",
          "height": 74
        },
        "id": "56dd4675-54e9-4f41-ace3-2eb47a3b8ca3",
        "outputId": "e35150c1-1c20-4ea7-d220-7c8a7d52b153"
      },
      "outputs": [
        {
          "output_type": "execute_result",
          "data": {
            "text/plain": [
              "LinearRegression()"
            ],
            "text/html": [
              "<style>#sk-container-id-8 {color: black;background-color: white;}#sk-container-id-8 pre{padding: 0;}#sk-container-id-8 div.sk-toggleable {background-color: white;}#sk-container-id-8 label.sk-toggleable__label {cursor: pointer;display: block;width: 100%;margin-bottom: 0;padding: 0.3em;box-sizing: border-box;text-align: center;}#sk-container-id-8 label.sk-toggleable__label-arrow:before {content: \"▸\";float: left;margin-right: 0.25em;color: #696969;}#sk-container-id-8 label.sk-toggleable__label-arrow:hover:before {color: black;}#sk-container-id-8 div.sk-estimator:hover label.sk-toggleable__label-arrow:before {color: black;}#sk-container-id-8 div.sk-toggleable__content {max-height: 0;max-width: 0;overflow: hidden;text-align: left;background-color: #f0f8ff;}#sk-container-id-8 div.sk-toggleable__content pre {margin: 0.2em;color: black;border-radius: 0.25em;background-color: #f0f8ff;}#sk-container-id-8 input.sk-toggleable__control:checked~div.sk-toggleable__content {max-height: 200px;max-width: 100%;overflow: auto;}#sk-container-id-8 input.sk-toggleable__control:checked~label.sk-toggleable__label-arrow:before {content: \"▾\";}#sk-container-id-8 div.sk-estimator input.sk-toggleable__control:checked~label.sk-toggleable__label {background-color: #d4ebff;}#sk-container-id-8 div.sk-label input.sk-toggleable__control:checked~label.sk-toggleable__label {background-color: #d4ebff;}#sk-container-id-8 input.sk-hidden--visually {border: 0;clip: rect(1px 1px 1px 1px);clip: rect(1px, 1px, 1px, 1px);height: 1px;margin: -1px;overflow: hidden;padding: 0;position: absolute;width: 1px;}#sk-container-id-8 div.sk-estimator {font-family: monospace;background-color: #f0f8ff;border: 1px dotted black;border-radius: 0.25em;box-sizing: border-box;margin-bottom: 0.5em;}#sk-container-id-8 div.sk-estimator:hover {background-color: #d4ebff;}#sk-container-id-8 div.sk-parallel-item::after {content: \"\";width: 100%;border-bottom: 1px solid gray;flex-grow: 1;}#sk-container-id-8 div.sk-label:hover label.sk-toggleable__label {background-color: #d4ebff;}#sk-container-id-8 div.sk-serial::before {content: \"\";position: absolute;border-left: 1px solid gray;box-sizing: border-box;top: 0;bottom: 0;left: 50%;z-index: 0;}#sk-container-id-8 div.sk-serial {display: flex;flex-direction: column;align-items: center;background-color: white;padding-right: 0.2em;padding-left: 0.2em;position: relative;}#sk-container-id-8 div.sk-item {position: relative;z-index: 1;}#sk-container-id-8 div.sk-parallel {display: flex;align-items: stretch;justify-content: center;background-color: white;position: relative;}#sk-container-id-8 div.sk-item::before, #sk-container-id-8 div.sk-parallel-item::before {content: \"\";position: absolute;border-left: 1px solid gray;box-sizing: border-box;top: 0;bottom: 0;left: 50%;z-index: -1;}#sk-container-id-8 div.sk-parallel-item {display: flex;flex-direction: column;z-index: 1;position: relative;background-color: white;}#sk-container-id-8 div.sk-parallel-item:first-child::after {align-self: flex-end;width: 50%;}#sk-container-id-8 div.sk-parallel-item:last-child::after {align-self: flex-start;width: 50%;}#sk-container-id-8 div.sk-parallel-item:only-child::after {width: 0;}#sk-container-id-8 div.sk-dashed-wrapped {border: 1px dashed gray;margin: 0 0.4em 0.5em 0.4em;box-sizing: border-box;padding-bottom: 0.4em;background-color: white;}#sk-container-id-8 div.sk-label label {font-family: monospace;font-weight: bold;display: inline-block;line-height: 1.2em;}#sk-container-id-8 div.sk-label-container {text-align: center;}#sk-container-id-8 div.sk-container {/* jupyter's `normalize.less` sets `[hidden] { display: none; }` but bootstrap.min.css set `[hidden] { display: none !important; }` so we also need the `!important` here to be able to override the default hidden behavior on the sphinx rendered scikit-learn.org. See: https://github.com/scikit-learn/scikit-learn/issues/21755 */display: inline-block !important;position: relative;}#sk-container-id-8 div.sk-text-repr-fallback {display: none;}</style><div id=\"sk-container-id-8\" class=\"sk-top-container\"><div class=\"sk-text-repr-fallback\"><pre>LinearRegression()</pre><b>In a Jupyter environment, please rerun this cell to show the HTML representation or trust the notebook. <br />On GitHub, the HTML representation is unable to render, please try loading this page with nbviewer.org.</b></div><div class=\"sk-container\" hidden><div class=\"sk-item\"><div class=\"sk-estimator sk-toggleable\"><input class=\"sk-toggleable__control sk-hidden--visually\" id=\"sk-estimator-id-10\" type=\"checkbox\" checked><label for=\"sk-estimator-id-10\" class=\"sk-toggleable__label sk-toggleable__label-arrow\">LinearRegression</label><div class=\"sk-toggleable__content\"><pre>LinearRegression()</pre></div></div></div></div></div>"
            ]
          },
          "metadata": {},
          "execution_count": 96
        }
      ],
      "source": [
        "lr.fit(X_train, y_train)\n"
      ]
    },
    {
      "cell_type": "code",
      "execution_count": 97,
      "id": "a4d32c2f-63a2-4f23-914a-34edb64c5ffd",
      "metadata": {
        "id": "a4d32c2f-63a2-4f23-914a-34edb64c5ffd"
      },
      "outputs": [],
      "source": [
        "y_pred = lr.predict(X_test)"
      ]
    },
    {
      "cell_type": "code",
      "execution_count": 98,
      "id": "75b209fa-0a5c-4946-9243-cf2db350e68f",
      "metadata": {
        "colab": {
          "base_uri": "https://localhost:8080/"
        },
        "id": "75b209fa-0a5c-4946-9243-cf2db350e68f",
        "outputId": "2cf7715a-00c2-45a4-afd2-d78488e122f2"
      },
      "outputs": [
        {
          "output_type": "execute_result",
          "data": {
            "text/plain": [
              "0.9999999999999999"
            ]
          },
          "metadata": {},
          "execution_count": 98
        }
      ],
      "source": [
        "r2 = r2_score(y_test, y_pred)\n",
        "r2\n"
      ]
    },
    {
      "cell_type": "code",
      "execution_count": 99,
      "id": "f06ff3f1-358e-4bd9-be2c-55953a5d0b65",
      "metadata": {
        "id": "f06ff3f1-358e-4bd9-be2c-55953a5d0b65"
      },
      "outputs": [],
      "source": [
        "lasso=Lasso()"
      ]
    },
    {
      "cell_type": "code",
      "execution_count": 100,
      "id": "ced93b10-1d2d-46b8-9ea6-5413f28c6f8a",
      "metadata": {
        "colab": {
          "base_uri": "https://localhost:8080/",
          "height": 74
        },
        "id": "ced93b10-1d2d-46b8-9ea6-5413f28c6f8a",
        "outputId": "073dda38-1bb5-4f66-84d3-bc1e4abf450d"
      },
      "outputs": [
        {
          "output_type": "execute_result",
          "data": {
            "text/plain": [
              "Lasso()"
            ],
            "text/html": [
              "<style>#sk-container-id-9 {color: black;background-color: white;}#sk-container-id-9 pre{padding: 0;}#sk-container-id-9 div.sk-toggleable {background-color: white;}#sk-container-id-9 label.sk-toggleable__label {cursor: pointer;display: block;width: 100%;margin-bottom: 0;padding: 0.3em;box-sizing: border-box;text-align: center;}#sk-container-id-9 label.sk-toggleable__label-arrow:before {content: \"▸\";float: left;margin-right: 0.25em;color: #696969;}#sk-container-id-9 label.sk-toggleable__label-arrow:hover:before {color: black;}#sk-container-id-9 div.sk-estimator:hover label.sk-toggleable__label-arrow:before {color: black;}#sk-container-id-9 div.sk-toggleable__content {max-height: 0;max-width: 0;overflow: hidden;text-align: left;background-color: #f0f8ff;}#sk-container-id-9 div.sk-toggleable__content pre {margin: 0.2em;color: black;border-radius: 0.25em;background-color: #f0f8ff;}#sk-container-id-9 input.sk-toggleable__control:checked~div.sk-toggleable__content {max-height: 200px;max-width: 100%;overflow: auto;}#sk-container-id-9 input.sk-toggleable__control:checked~label.sk-toggleable__label-arrow:before {content: \"▾\";}#sk-container-id-9 div.sk-estimator input.sk-toggleable__control:checked~label.sk-toggleable__label {background-color: #d4ebff;}#sk-container-id-9 div.sk-label input.sk-toggleable__control:checked~label.sk-toggleable__label {background-color: #d4ebff;}#sk-container-id-9 input.sk-hidden--visually {border: 0;clip: rect(1px 1px 1px 1px);clip: rect(1px, 1px, 1px, 1px);height: 1px;margin: -1px;overflow: hidden;padding: 0;position: absolute;width: 1px;}#sk-container-id-9 div.sk-estimator {font-family: monospace;background-color: #f0f8ff;border: 1px dotted black;border-radius: 0.25em;box-sizing: border-box;margin-bottom: 0.5em;}#sk-container-id-9 div.sk-estimator:hover {background-color: #d4ebff;}#sk-container-id-9 div.sk-parallel-item::after {content: \"\";width: 100%;border-bottom: 1px solid gray;flex-grow: 1;}#sk-container-id-9 div.sk-label:hover label.sk-toggleable__label {background-color: #d4ebff;}#sk-container-id-9 div.sk-serial::before {content: \"\";position: absolute;border-left: 1px solid gray;box-sizing: border-box;top: 0;bottom: 0;left: 50%;z-index: 0;}#sk-container-id-9 div.sk-serial {display: flex;flex-direction: column;align-items: center;background-color: white;padding-right: 0.2em;padding-left: 0.2em;position: relative;}#sk-container-id-9 div.sk-item {position: relative;z-index: 1;}#sk-container-id-9 div.sk-parallel {display: flex;align-items: stretch;justify-content: center;background-color: white;position: relative;}#sk-container-id-9 div.sk-item::before, #sk-container-id-9 div.sk-parallel-item::before {content: \"\";position: absolute;border-left: 1px solid gray;box-sizing: border-box;top: 0;bottom: 0;left: 50%;z-index: -1;}#sk-container-id-9 div.sk-parallel-item {display: flex;flex-direction: column;z-index: 1;position: relative;background-color: white;}#sk-container-id-9 div.sk-parallel-item:first-child::after {align-self: flex-end;width: 50%;}#sk-container-id-9 div.sk-parallel-item:last-child::after {align-self: flex-start;width: 50%;}#sk-container-id-9 div.sk-parallel-item:only-child::after {width: 0;}#sk-container-id-9 div.sk-dashed-wrapped {border: 1px dashed gray;margin: 0 0.4em 0.5em 0.4em;box-sizing: border-box;padding-bottom: 0.4em;background-color: white;}#sk-container-id-9 div.sk-label label {font-family: monospace;font-weight: bold;display: inline-block;line-height: 1.2em;}#sk-container-id-9 div.sk-label-container {text-align: center;}#sk-container-id-9 div.sk-container {/* jupyter's `normalize.less` sets `[hidden] { display: none; }` but bootstrap.min.css set `[hidden] { display: none !important; }` so we also need the `!important` here to be able to override the default hidden behavior on the sphinx rendered scikit-learn.org. See: https://github.com/scikit-learn/scikit-learn/issues/21755 */display: inline-block !important;position: relative;}#sk-container-id-9 div.sk-text-repr-fallback {display: none;}</style><div id=\"sk-container-id-9\" class=\"sk-top-container\"><div class=\"sk-text-repr-fallback\"><pre>Lasso()</pre><b>In a Jupyter environment, please rerun this cell to show the HTML representation or trust the notebook. <br />On GitHub, the HTML representation is unable to render, please try loading this page with nbviewer.org.</b></div><div class=\"sk-container\" hidden><div class=\"sk-item\"><div class=\"sk-estimator sk-toggleable\"><input class=\"sk-toggleable__control sk-hidden--visually\" id=\"sk-estimator-id-11\" type=\"checkbox\" checked><label for=\"sk-estimator-id-11\" class=\"sk-toggleable__label sk-toggleable__label-arrow\">Lasso</label><div class=\"sk-toggleable__content\"><pre>Lasso()</pre></div></div></div></div></div>"
            ]
          },
          "metadata": {},
          "execution_count": 100
        }
      ],
      "source": [
        "lasso.fit(X_train,y_train)"
      ]
    },
    {
      "cell_type": "code",
      "execution_count": 101,
      "id": "dd8d6504-02c9-435e-a25b-3cff6402eaca",
      "metadata": {
        "id": "dd8d6504-02c9-435e-a25b-3cff6402eaca"
      },
      "outputs": [],
      "source": [
        "y_pred_lasso=lasso.predict(X_test)"
      ]
    },
    {
      "cell_type": "code",
      "execution_count": 102,
      "id": "e8d33226-3f8c-4104-b767-570bd08734e3",
      "metadata": {
        "colab": {
          "base_uri": "https://localhost:8080/"
        },
        "id": "e8d33226-3f8c-4104-b767-570bd08734e3",
        "outputId": "a26ace5e-04fb-4f26-f341-563874bd6299"
      },
      "outputs": [
        {
          "output_type": "execute_result",
          "data": {
            "text/plain": [
              "-0.24178066276707777"
            ]
          },
          "metadata": {},
          "execution_count": 102
        }
      ],
      "source": [
        "r2 = r2_score(y_test, y_pred_lasso)\n",
        "\n",
        "r2"
      ]
    },
    {
      "cell_type": "code",
      "execution_count": 103,
      "id": "7b5296e5-ae38-4227-ada6-f9eb4851cdb5",
      "metadata": {
        "id": "7b5296e5-ae38-4227-ada6-f9eb4851cdb5"
      },
      "outputs": [],
      "source": [
        "import pandas as pd\n",
        "import tensorflow as tf\n",
        "from sklearn.model_selection import train_test_split\n",
        "import tensorflow_addons as tfa"
      ]
    },
    {
      "cell_type": "code",
      "execution_count": 104,
      "id": "ce0c8c8f-b551-44a8-a07f-ea13f59e4593",
      "metadata": {
        "id": "ce0c8c8f-b551-44a8-a07f-ea13f59e4593"
      },
      "outputs": [],
      "source": [
        "r2_metric = tfa.metrics.RSquare(dtype=tf.float32)"
      ]
    },
    {
      "cell_type": "code",
      "execution_count": 105,
      "id": "966efa0f-f8e7-4ba5-89ab-5710960a8d45",
      "metadata": {
        "id": "966efa0f-f8e7-4ba5-89ab-5710960a8d45"
      },
      "outputs": [],
      "source": [
        "features=data.drop(columns=['Drain Current'])\n",
        "target=data['Drain Current']"
      ]
    },
    {
      "cell_type": "code",
      "execution_count": 106,
      "id": "550f0009-87df-4224-b020-289459fd96e3",
      "metadata": {
        "id": "550f0009-87df-4224-b020-289459fd96e3"
      },
      "outputs": [],
      "source": [
        "X_train, X_test, y_train, y_test = train_test_split(features, target, test_size=0.2, random_state=42)"
      ]
    },
    {
      "cell_type": "code",
      "execution_count": 107,
      "id": "4a174ee2-3ce4-4f24-91d0-d1439e6b1ce7",
      "metadata": {
        "id": "4a174ee2-3ce4-4f24-91d0-d1439e6b1ce7"
      },
      "outputs": [],
      "source": [
        "model = tf.keras.Sequential([\n",
        "    # Input layer with 4 features and 64 neurons (units), using ReLU activation\n",
        "    tf.keras.layers.Dense(64, activation='relu', input_shape=(4,)),\n",
        "\n",
        "    # Hidden layer with 32 neurons, using ReLU activation\n",
        "    tf.keras.layers.Dense(32, activation='relu'),\n",
        "\n",
        "    # Output layer with 1 neuron (since it's a regression problem)\n",
        "    tf.keras.layers.Dense(1)\n",
        "])"
      ]
    },
    {
      "cell_type": "code",
      "execution_count": 108,
      "id": "0df025af-0e05-4e9e-8dc6-55dbf00e0665",
      "metadata": {
        "id": "0df025af-0e05-4e9e-8dc6-55dbf00e0665"
      },
      "outputs": [],
      "source": [
        "model.compile(optimizer='adam', loss='mean_squared_error', metrics=[r2_metric])"
      ]
    },
    {
      "cell_type": "code",
      "execution_count": 109,
      "id": "efca025e-f2b4-4fa2-ba0b-9467da87532b",
      "metadata": {
        "colab": {
          "base_uri": "https://localhost:8080/"
        },
        "id": "efca025e-f2b4-4fa2-ba0b-9467da87532b",
        "outputId": "43a68d89-d4c9-459c-fc0e-541d3bcf4681"
      },
      "outputs": [
        {
          "output_type": "stream",
          "name": "stdout",
          "text": [
            "Epoch 1/10\n",
            "1/1 [==============================] - 1s 685ms/step - loss: 0.0977 - r_square: -991471168.0000 - val_loss: 0.1118 - val_r_square: -994259904.0000\n",
            "Epoch 2/10\n",
            "1/1 [==============================] - 0s 48ms/step - loss: 0.0788 - r_square: -799185920.0000 - val_loss: 0.0885 - val_r_square: -787797504.0000\n",
            "Epoch 3/10\n",
            "1/1 [==============================] - 0s 45ms/step - loss: 0.0621 - r_square: -629913536.0000 - val_loss: 0.0684 - val_r_square: -608371456.0000\n",
            "Epoch 4/10\n",
            "1/1 [==============================] - 0s 37ms/step - loss: 0.0477 - r_square: -483617312.0000 - val_loss: 0.0514 - val_r_square: -456999904.0000\n",
            "Epoch 5/10\n",
            "1/1 [==============================] - 0s 31ms/step - loss: 0.0356 - r_square: -360990560.0000 - val_loss: 0.0373 - val_r_square: -331525248.0000\n",
            "Epoch 6/10\n",
            "1/1 [==============================] - 0s 30ms/step - loss: 0.0256 - r_square: -260033168.0000 - val_loss: 0.0260 - val_r_square: -231311360.0000\n",
            "Epoch 7/10\n",
            "1/1 [==============================] - 0s 30ms/step - loss: 0.0178 - r_square: -180168336.0000 - val_loss: 0.0174 - val_r_square: -154610368.0000\n",
            "Epoch 8/10\n",
            "1/1 [==============================] - 0s 50ms/step - loss: 0.0118 - r_square: -119436376.0000 - val_loss: 0.0109 - val_r_square: -97292696.0000\n",
            "Epoch 9/10\n",
            "1/1 [==============================] - 0s 47ms/step - loss: 0.0074 - r_square: -74691272.0000 - val_loss: 0.0064 - val_r_square: -56668908.0000\n",
            "Epoch 10/10\n",
            "1/1 [==============================] - 0s 47ms/step - loss: 0.0043 - r_square: -43455360.0000 - val_loss: 0.0034 - val_r_square: -29821940.0000\n"
          ]
        },
        {
          "output_type": "execute_result",
          "data": {
            "text/plain": [
              "<keras.src.callbacks.History at 0x7f7cd27a3190>"
            ]
          },
          "metadata": {},
          "execution_count": 109
        }
      ],
      "source": [
        "model.fit(X_train, y_train, epochs=10, batch_size=32, validation_data=(X_test, y_test))\n"
      ]
    },
    {
      "cell_type": "code",
      "execution_count": 110,
      "id": "21af9ca9-87eb-44c2-a863-0ecd29ffdad9",
      "metadata": {
        "colab": {
          "base_uri": "https://localhost:8080/"
        },
        "id": "21af9ca9-87eb-44c2-a863-0ecd29ffdad9",
        "outputId": "bfad8afe-ee0a-4704-cff6-42f183d20813"
      },
      "outputs": [
        {
          "output_type": "stream",
          "name": "stdout",
          "text": [
            "1/1 [==============================] - 0s 41ms/step\n"
          ]
        }
      ],
      "source": [
        "y_pred = model.predict(X_test)"
      ]
    },
    {
      "cell_type": "code",
      "execution_count": 111,
      "id": "830b5e4a-3a42-4b11-a660-29117576e01d",
      "metadata": {
        "colab": {
          "base_uri": "https://localhost:8080/"
        },
        "id": "830b5e4a-3a42-4b11-a660-29117576e01d",
        "outputId": "e2b48a56-1d6f-4431-b504-a73b222011a5"
      },
      "outputs": [
        {
          "output_type": "execute_result",
          "data": {
            "text/plain": [
              "array([[ 0.08800684],\n",
              "       [ 0.01184539],\n",
              "       [ 0.06238421],\n",
              "       [ 0.02412393],\n",
              "       [-0.02400734],\n",
              "       [-0.01942166],\n",
              "       [ 0.10081814]], dtype=float32)"
            ]
          },
          "metadata": {},
          "execution_count": 111
        }
      ],
      "source": [
        "y_pred"
      ]
    },
    {
      "cell_type": "code",
      "execution_count": 112,
      "id": "0c19f530-f571-4f44-b568-cd179ef92c15",
      "metadata": {
        "colab": {
          "base_uri": "https://localhost:8080/"
        },
        "id": "0c19f530-f571-4f44-b568-cd179ef92c15",
        "outputId": "0f10b407-2879-4aae-bd15-a988ecc2f840"
      },
      "outputs": [
        {
          "output_type": "execute_result",
          "data": {
            "text/plain": [
              "-29821946.057121497"
            ]
          },
          "metadata": {},
          "execution_count": 112
        }
      ],
      "source": [
        "r2_score(y_test,y_pred)"
      ]
    },
    {
      "cell_type": "code",
      "execution_count": 113,
      "id": "8bb67dea-c9dc-4448-82b6-f08a93d3b679",
      "metadata": {
        "id": "8bb67dea-c9dc-4448-82b6-f08a93d3b679"
      },
      "outputs": [],
      "source": [
        "from sklearn.metrics import mean_absolute_error, mean_squared_error, r2_score\n"
      ]
    },
    {
      "cell_type": "code",
      "execution_count": 114,
      "id": "3ff589eb-35a3-499d-8a6f-2bdc615d6a8b",
      "metadata": {
        "colab": {
          "base_uri": "https://localhost:8080/"
        },
        "id": "3ff589eb-35a3-499d-8a6f-2bdc615d6a8b",
        "outputId": "42bb94e1-d74a-41a8-c7c6-d208cd9409b0"
      },
      "outputs": [
        {
          "output_type": "execute_result",
          "data": {
            "text/plain": [
              "0.04721647401597268"
            ]
          },
          "metadata": {},
          "execution_count": 114
        }
      ],
      "source": [
        "mae = mean_absolute_error(y_test, y_pred)\n",
        "mae"
      ]
    },
    {
      "cell_type": "code",
      "execution_count": 115,
      "id": "b9d4c57c-e621-430c-b05e-4c5746fedd28",
      "metadata": {
        "colab": {
          "base_uri": "https://localhost:8080/"
        },
        "id": "b9d4c57c-e621-430c-b05e-4c5746fedd28",
        "outputId": "598d9b4f-b610-4694-d894-d895ea2513b7"
      },
      "outputs": [
        {
          "output_type": "execute_result",
          "data": {
            "text/plain": [
              "0.003351864706178549"
            ]
          },
          "metadata": {},
          "execution_count": 115
        }
      ],
      "source": [
        "mse = mean_squared_error(y_test, y_pred)\n",
        "mse"
      ]
    },
    {
      "cell_type": "code",
      "execution_count": 116,
      "id": "4edde9a3-a04a-4d4b-81aa-f4e96da70533",
      "metadata": {
        "colab": {
          "base_uri": "https://localhost:8080/"
        },
        "id": "4edde9a3-a04a-4d4b-81aa-f4e96da70533",
        "outputId": "4bad6dec-68e1-4a11-f003-5f89b51d80f4"
      },
      "outputs": [
        {
          "output_type": "execute_result",
          "data": {
            "text/plain": [
              "0.057895290880852726"
            ]
          },
          "metadata": {},
          "execution_count": 116
        }
      ],
      "source": [
        "rmse = nm.sqrt(mse)\n",
        "rmse"
      ]
    },
    {
      "cell_type": "code",
      "execution_count": 117,
      "id": "48aac080-4623-48b2-95cc-9aaa5d82482b",
      "metadata": {
        "colab": {
          "base_uri": "https://localhost:8080/"
        },
        "id": "48aac080-4623-48b2-95cc-9aaa5d82482b",
        "outputId": "b28ec8ec-31a2-4241-a770-c32ad72b7c08"
      },
      "outputs": [
        {
          "output_type": "execute_result",
          "data": {
            "text/plain": [
              "-29821946.057121497"
            ]
          },
          "metadata": {},
          "execution_count": 117
        }
      ],
      "source": [
        "r_squared = r2_score(y_test, y_pred)\n",
        "r_squared"
      ]
    },
    {
      "cell_type": "code",
      "execution_count": 118,
      "id": "793706fc-85c2-4c3b-901d-f1a5832175e7",
      "metadata": {
        "colab": {
          "base_uri": "https://localhost:8080/"
        },
        "id": "793706fc-85c2-4c3b-901d-f1a5832175e7",
        "outputId": "f413bdfc-1a4b-4f22-c0b2-e11f2c546abc"
      },
      "outputs": [
        {
          "output_type": "stream",
          "name": "stdout",
          "text": [
            "1/1 [==============================] - 0s 22ms/step - loss: 0.0034 - r_square: -29821940.0000\n",
            "Loss: 0.0033518646378070116\n",
            "R-squared (R²) score: -29821940.0\n"
          ]
        }
      ],
      "source": [
        "loss, r2_score = model.evaluate(X_test, y_test)\n",
        "print(\"Loss:\", loss)\n",
        "print(\"R-squared (R²) score:\", r2_score)"
      ]
    },
    {
      "cell_type": "code",
      "execution_count": 119,
      "id": "3f04e676-cc9e-485e-8613-d4f709ba3733",
      "metadata": {
        "id": "3f04e676-cc9e-485e-8613-d4f709ba3733"
      },
      "outputs": [],
      "source": [
        "from sklearn.model_selection import train_test_split, GridSearchCV\n",
        "from sklearn.svm import SVR"
      ]
    },
    {
      "cell_type": "code",
      "execution_count": 120,
      "id": "c0cd8fd6-1d9f-436e-ad29-872340227244",
      "metadata": {
        "id": "c0cd8fd6-1d9f-436e-ad29-872340227244"
      },
      "outputs": [],
      "source": [
        "X_train, X_test, y_train, y_test = train_test_split(features, target, test_size=0.2, random_state=42)"
      ]
    },
    {
      "cell_type": "code",
      "execution_count": 121,
      "id": "96c1484f-3013-4a2b-a456-883aed6ef9d5",
      "metadata": {
        "id": "96c1484f-3013-4a2b-a456-883aed6ef9d5"
      },
      "outputs": [],
      "source": [
        "svr = SVR()"
      ]
    },
    {
      "cell_type": "code",
      "execution_count": 122,
      "id": "a6be13f8-5f3d-4bcc-8412-8b3a0fe6741f",
      "metadata": {
        "id": "a6be13f8-5f3d-4bcc-8412-8b3a0fe6741f"
      },
      "outputs": [],
      "source": [
        "param_grid = {\n",
        "    'kernel': ['linear', 'rbf'],  # Kernels to try\n",
        "    'C': [0.1, 1, 10],           # Regularization parameter\n",
        "    'epsilon': [0.1, 0.2, 0.3]   # Epsilon parameter\n",
        "}"
      ]
    },
    {
      "cell_type": "code",
      "execution_count": 123,
      "id": "2d792ec7-b152-430c-bfe1-5b82a5229f8d",
      "metadata": {
        "id": "2d792ec7-b152-430c-bfe1-5b82a5229f8d"
      },
      "outputs": [],
      "source": [
        "grid_search = GridSearchCV(estimator=svr, param_grid=param_grid, scoring='neg_mean_squared_error', cv=5)\n"
      ]
    },
    {
      "cell_type": "code",
      "execution_count": 124,
      "id": "89599cf5-709d-4ffd-8a91-0c0ef52196b6",
      "metadata": {
        "colab": {
          "base_uri": "https://localhost:8080/",
          "height": 116
        },
        "id": "89599cf5-709d-4ffd-8a91-0c0ef52196b6",
        "outputId": "b9b09891-7c2b-4614-a4f8-0e1dd04064f7"
      },
      "outputs": [
        {
          "output_type": "execute_result",
          "data": {
            "text/plain": [
              "GridSearchCV(cv=5, estimator=SVR(),\n",
              "             param_grid={'C': [0.1, 1, 10], 'epsilon': [0.1, 0.2, 0.3],\n",
              "                         'kernel': ['linear', 'rbf']},\n",
              "             scoring='neg_mean_squared_error')"
            ],
            "text/html": [
              "<style>#sk-container-id-10 {color: black;background-color: white;}#sk-container-id-10 pre{padding: 0;}#sk-container-id-10 div.sk-toggleable {background-color: white;}#sk-container-id-10 label.sk-toggleable__label {cursor: pointer;display: block;width: 100%;margin-bottom: 0;padding: 0.3em;box-sizing: border-box;text-align: center;}#sk-container-id-10 label.sk-toggleable__label-arrow:before {content: \"▸\";float: left;margin-right: 0.25em;color: #696969;}#sk-container-id-10 label.sk-toggleable__label-arrow:hover:before {color: black;}#sk-container-id-10 div.sk-estimator:hover label.sk-toggleable__label-arrow:before {color: black;}#sk-container-id-10 div.sk-toggleable__content {max-height: 0;max-width: 0;overflow: hidden;text-align: left;background-color: #f0f8ff;}#sk-container-id-10 div.sk-toggleable__content pre {margin: 0.2em;color: black;border-radius: 0.25em;background-color: #f0f8ff;}#sk-container-id-10 input.sk-toggleable__control:checked~div.sk-toggleable__content {max-height: 200px;max-width: 100%;overflow: auto;}#sk-container-id-10 input.sk-toggleable__control:checked~label.sk-toggleable__label-arrow:before {content: \"▾\";}#sk-container-id-10 div.sk-estimator input.sk-toggleable__control:checked~label.sk-toggleable__label {background-color: #d4ebff;}#sk-container-id-10 div.sk-label input.sk-toggleable__control:checked~label.sk-toggleable__label {background-color: #d4ebff;}#sk-container-id-10 input.sk-hidden--visually {border: 0;clip: rect(1px 1px 1px 1px);clip: rect(1px, 1px, 1px, 1px);height: 1px;margin: -1px;overflow: hidden;padding: 0;position: absolute;width: 1px;}#sk-container-id-10 div.sk-estimator {font-family: monospace;background-color: #f0f8ff;border: 1px dotted black;border-radius: 0.25em;box-sizing: border-box;margin-bottom: 0.5em;}#sk-container-id-10 div.sk-estimator:hover {background-color: #d4ebff;}#sk-container-id-10 div.sk-parallel-item::after {content: \"\";width: 100%;border-bottom: 1px solid gray;flex-grow: 1;}#sk-container-id-10 div.sk-label:hover label.sk-toggleable__label {background-color: #d4ebff;}#sk-container-id-10 div.sk-serial::before {content: \"\";position: absolute;border-left: 1px solid gray;box-sizing: border-box;top: 0;bottom: 0;left: 50%;z-index: 0;}#sk-container-id-10 div.sk-serial {display: flex;flex-direction: column;align-items: center;background-color: white;padding-right: 0.2em;padding-left: 0.2em;position: relative;}#sk-container-id-10 div.sk-item {position: relative;z-index: 1;}#sk-container-id-10 div.sk-parallel {display: flex;align-items: stretch;justify-content: center;background-color: white;position: relative;}#sk-container-id-10 div.sk-item::before, #sk-container-id-10 div.sk-parallel-item::before {content: \"\";position: absolute;border-left: 1px solid gray;box-sizing: border-box;top: 0;bottom: 0;left: 50%;z-index: -1;}#sk-container-id-10 div.sk-parallel-item {display: flex;flex-direction: column;z-index: 1;position: relative;background-color: white;}#sk-container-id-10 div.sk-parallel-item:first-child::after {align-self: flex-end;width: 50%;}#sk-container-id-10 div.sk-parallel-item:last-child::after {align-self: flex-start;width: 50%;}#sk-container-id-10 div.sk-parallel-item:only-child::after {width: 0;}#sk-container-id-10 div.sk-dashed-wrapped {border: 1px dashed gray;margin: 0 0.4em 0.5em 0.4em;box-sizing: border-box;padding-bottom: 0.4em;background-color: white;}#sk-container-id-10 div.sk-label label {font-family: monospace;font-weight: bold;display: inline-block;line-height: 1.2em;}#sk-container-id-10 div.sk-label-container {text-align: center;}#sk-container-id-10 div.sk-container {/* jupyter's `normalize.less` sets `[hidden] { display: none; }` but bootstrap.min.css set `[hidden] { display: none !important; }` so we also need the `!important` here to be able to override the default hidden behavior on the sphinx rendered scikit-learn.org. See: https://github.com/scikit-learn/scikit-learn/issues/21755 */display: inline-block !important;position: relative;}#sk-container-id-10 div.sk-text-repr-fallback {display: none;}</style><div id=\"sk-container-id-10\" class=\"sk-top-container\"><div class=\"sk-text-repr-fallback\"><pre>GridSearchCV(cv=5, estimator=SVR(),\n",
              "             param_grid={&#x27;C&#x27;: [0.1, 1, 10], &#x27;epsilon&#x27;: [0.1, 0.2, 0.3],\n",
              "                         &#x27;kernel&#x27;: [&#x27;linear&#x27;, &#x27;rbf&#x27;]},\n",
              "             scoring=&#x27;neg_mean_squared_error&#x27;)</pre><b>In a Jupyter environment, please rerun this cell to show the HTML representation or trust the notebook. <br />On GitHub, the HTML representation is unable to render, please try loading this page with nbviewer.org.</b></div><div class=\"sk-container\" hidden><div class=\"sk-item sk-dashed-wrapped\"><div class=\"sk-label-container\"><div class=\"sk-label sk-toggleable\"><input class=\"sk-toggleable__control sk-hidden--visually\" id=\"sk-estimator-id-12\" type=\"checkbox\" ><label for=\"sk-estimator-id-12\" class=\"sk-toggleable__label sk-toggleable__label-arrow\">GridSearchCV</label><div class=\"sk-toggleable__content\"><pre>GridSearchCV(cv=5, estimator=SVR(),\n",
              "             param_grid={&#x27;C&#x27;: [0.1, 1, 10], &#x27;epsilon&#x27;: [0.1, 0.2, 0.3],\n",
              "                         &#x27;kernel&#x27;: [&#x27;linear&#x27;, &#x27;rbf&#x27;]},\n",
              "             scoring=&#x27;neg_mean_squared_error&#x27;)</pre></div></div></div><div class=\"sk-parallel\"><div class=\"sk-parallel-item\"><div class=\"sk-item\"><div class=\"sk-label-container\"><div class=\"sk-label sk-toggleable\"><input class=\"sk-toggleable__control sk-hidden--visually\" id=\"sk-estimator-id-13\" type=\"checkbox\" ><label for=\"sk-estimator-id-13\" class=\"sk-toggleable__label sk-toggleable__label-arrow\">estimator: SVR</label><div class=\"sk-toggleable__content\"><pre>SVR()</pre></div></div></div><div class=\"sk-serial\"><div class=\"sk-item\"><div class=\"sk-estimator sk-toggleable\"><input class=\"sk-toggleable__control sk-hidden--visually\" id=\"sk-estimator-id-14\" type=\"checkbox\" ><label for=\"sk-estimator-id-14\" class=\"sk-toggleable__label sk-toggleable__label-arrow\">SVR</label><div class=\"sk-toggleable__content\"><pre>SVR()</pre></div></div></div></div></div></div></div></div></div></div>"
            ]
          },
          "metadata": {},
          "execution_count": 124
        }
      ],
      "source": [
        "grid_search.fit(X_train, y_train)\n"
      ]
    },
    {
      "cell_type": "code",
      "execution_count": 125,
      "id": "78c383f2-82fd-490c-b703-d18c64617f29",
      "metadata": {
        "id": "78c383f2-82fd-490c-b703-d18c64617f29"
      },
      "outputs": [],
      "source": [
        "best_params = grid_search.best_params_"
      ]
    },
    {
      "cell_type": "code",
      "execution_count": 126,
      "id": "f3b54fc8-a6d1-4f6e-8c89-5dc7a7999430",
      "metadata": {
        "colab": {
          "base_uri": "https://localhost:8080/"
        },
        "id": "f3b54fc8-a6d1-4f6e-8c89-5dc7a7999430",
        "outputId": "ba2dfb8b-7d8c-4572-eafb-3d0b77947b3b"
      },
      "outputs": [
        {
          "output_type": "execute_result",
          "data": {
            "text/plain": [
              "{'C': 0.1, 'epsilon': 0.2, 'kernel': 'linear'}"
            ]
          },
          "metadata": {},
          "execution_count": 126
        }
      ],
      "source": [
        "best_params"
      ]
    },
    {
      "cell_type": "code",
      "execution_count": 130,
      "id": "930d3000-3721-4e5e-9963-f02b2741d2b1",
      "metadata": {
        "colab": {
          "base_uri": "https://localhost:8080/"
        },
        "id": "930d3000-3721-4e5e-9963-f02b2741d2b1",
        "outputId": "2ffcac49-65a0-4f7c-f813-a404eeaa0f84"
      },
      "outputs": [
        {
          "output_type": "stream",
          "name": "stdout",
          "text": [
            "Mean Squared Error (MSE) with Best Model: 1.162141542393619e-10\n"
          ]
        }
      ],
      "source": [
        "best_model = grid_search.best_estimator_\n",
        "y_pred_best = best_model.predict(X_test)\n",
        "mse = mean_squared_error(y_test, y_pred_best)\n",
        "print(\"Mean Squared Error (MSE) with Best Model:\", mse)"
      ]
    },
    {
      "cell_type": "code",
      "execution_count": 134,
      "id": "39dce5e7-3076-4928-a170-f0e2e11c658d",
      "metadata": {
        "colab": {
          "base_uri": "https://localhost:8080/",
          "height": 193
        },
        "id": "39dce5e7-3076-4928-a170-f0e2e11c658d",
        "outputId": "a2b2d5b6-8f11-46dc-a24b-29f6b91fe4fa"
      },
      "outputs": [
        {
          "output_type": "error",
          "ename": "TypeError",
          "evalue": "ignored",
          "traceback": [
            "\u001b[0;31m---------------------------------------------------------------------------\u001b[0m",
            "\u001b[0;31mTypeError\u001b[0m                                 Traceback (most recent call last)",
            "\u001b[0;32m<ipython-input-134-7f1ade40aff9>\u001b[0m in \u001b[0;36m<cell line: 1>\u001b[0;34m()\u001b[0m\n\u001b[0;32m----> 1\u001b[0;31m \u001b[0mr2\u001b[0m\u001b[0;34m=\u001b[0m \u001b[0mr2_score\u001b[0m\u001b[0;34m(\u001b[0m\u001b[0my_test\u001b[0m\u001b[0;34m,\u001b[0m\u001b[0my_pred_best\u001b[0m\u001b[0;34m)\u001b[0m\u001b[0;34m\u001b[0m\u001b[0;34m\u001b[0m\u001b[0m\n\u001b[0m\u001b[1;32m      2\u001b[0m \u001b[0mr2\u001b[0m\u001b[0;34m\u001b[0m\u001b[0;34m\u001b[0m\u001b[0m\n",
            "\u001b[0;31mTypeError\u001b[0m: 'float' object is not callable"
          ]
        }
      ],
      "source": [
        "r2= r2_score(y_test,y_pred_best)\n",
        "r2"
      ]
    },
    {
      "cell_type": "code",
      "execution_count": null,
      "id": "39da15c2-7fa2-4785-b7ba-6e469c6b412c",
      "metadata": {
        "id": "39da15c2-7fa2-4785-b7ba-6e469c6b412c"
      },
      "outputs": [],
      "source": []
    }
  ],
  "metadata": {
    "kernelspec": {
      "display_name": "Python 3 (ipykernel)",
      "language": "python",
      "name": "python3"
    },
    "language_info": {
      "codemirror_mode": {
        "name": "ipython",
        "version": 3
      },
      "file_extension": ".py",
      "mimetype": "text/x-python",
      "name": "python",
      "nbconvert_exporter": "python",
      "pygments_lexer": "ipython3",
      "version": "3.11.5"
    },
    "colab": {
      "provenance": [],
      "toc_visible": true,
      "include_colab_link": true
    }
  },
  "nbformat": 4,
  "nbformat_minor": 5
}